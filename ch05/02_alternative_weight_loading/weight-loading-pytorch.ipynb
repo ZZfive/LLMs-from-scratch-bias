{
 "cells": [
  {
   "cell_type": "markdown",
   "id": "32794e14",
   "metadata": {},
   "source": [
    "<table style=\"width:100%\">\n",
    "<tr>\n",
    "<td style=\"vertical-align:middle; text-align:left;\">\n",
    "<font size=\"2\">\n",
    "Supplementary code for the <a href=\"http://mng.bz/orYv\">Build a Large Language Model From Scratch</a> book by <a href=\"https://sebastianraschka.com\">Sebastian Raschka</a><br>\n",
    "<br>Code repository: <a href=\"https://github.com/rasbt/LLMs-from-scratch\">https://github.com/rasbt/LLMs-from-scratch</a>\n",
    "</font>\n",
    "</td>\n",
    "<td style=\"vertical-align:middle; text-align:left;\">\n",
    "<a href=\"http://mng.bz/orYv\"><img src=\"https://sebastianraschka.com/images/LLMs-from-scratch-images/cover-small.webp\" width=\"100px\"></a>\n",
    "</td>\n",
    "</tr>\n",
    "</table>"
   ]
  },
  {
   "cell_type": "markdown",
   "id": "2e475c57",
   "metadata": {},
   "source": [
    "# 第5章附加代码"
   ]
  },
  {
   "cell_type": "markdown",
   "id": "a29982f2",
   "metadata": {},
   "source": [
    "## 从PyTorch state dict中加载替代权重"
   ]
  },
  {
   "cell_type": "markdown",
   "id": "f1aa13bd",
   "metadata": {},
   "source": [
    "- 在主章节中，直接从OpenAI加载了GPT模型权重\n",
    "- 本notebook提供了替代的权重加载代码，用于从[Hugging Face Model Hub](https://huggingface.co/docs/hub/en/models-the-hub)上上传的 PyTorch state dict文件中加载模型权重。这些状态字典文件是从原始TensorFlow文件中创建的，上传地址为[https://huggingface.co/rasbt/gpt2-from-scratch-pytorch](https://huggingface.co/rasbt/gpt2-from-scratch-pytorch)\n",
    "- 在概念上，这与从第5章中描述的状态字典方法加载PyTorch模型的权重相同\n",
    "\n",
    "```python\n",
    "state_dict = torch.load(\"model_state_dict.pth\")\n",
    "model.load_state_dict(state_dict) \n",
    "```"
   ]
  },
  {
   "cell_type": "markdown",
   "id": "643bbebe",
   "metadata": {},
   "source": [
    "### 选择模型"
   ]
  },
  {
   "cell_type": "code",
   "execution_count": 1,
   "id": "7b50ff19",
   "metadata": {},
   "outputs": [
    {
     "name": "stdout",
     "output_type": "stream",
     "text": [
      "torch version: 2.2.0+cu118\n"
     ]
    }
   ],
   "source": [
    "from importlib.metadata import version\n",
    "\n",
    "pkgs = [\"torch\"]\n",
    "for p in pkgs:\n",
    "    print(f\"{p} version: {version(p)}\")"
   ]
  },
  {
   "cell_type": "code",
   "execution_count": 2,
   "id": "ff731f9c",
   "metadata": {},
   "outputs": [],
   "source": [
    "BASE_CONFIG = {\n",
    "    \"vocab_size\": 50257,    # Vocabulary size\n",
    "    \"context_length\": 1024, # Context length\n",
    "    \"drop_rate\": 0.0,       # Dropout rate\n",
    "    \"qkv_bias\": True        # Query-key-value bias\n",
    "}\n",
    "\n",
    "model_configs = {\n",
    "    \"gpt2-small (124M)\": {\"emb_dim\": 768, \"n_layers\": 12, \"n_heads\": 12},\n",
    "    \"gpt2-medium (355M)\": {\"emb_dim\": 1024, \"n_layers\": 24, \"n_heads\": 16},\n",
    "    \"gpt2-large (774M)\": {\"emb_dim\": 1280, \"n_layers\": 36, \"n_heads\": 20},\n",
    "    \"gpt2-xl (1558M)\": {\"emb_dim\": 1600, \"n_layers\": 48, \"n_heads\": 25},\n",
    "}\n",
    "\n",
    "\n",
    "CHOOSE_MODEL = \"gpt2-small (124M)\"\n",
    "BASE_CONFIG.update(model_configs[CHOOSE_MODEL])"
   ]
  },
  {
   "cell_type": "markdown",
   "id": "ce98b2d9",
   "metadata": {},
   "source": [
    "### 下载文件"
   ]
  },
  {
   "cell_type": "code",
   "execution_count": null,
   "id": "2b17c7f1",
   "metadata": {},
   "outputs": [],
   "source": [
    "file_name = \"gpt2-small-124M.pth\"\n",
    "# file_name = \"gpt2-medium-355M.pth\"\n",
    "# file_name = \"gpt2-large-774M.pth\"\n",
    "# file_name = \"gpt2-xl-1558M.pth\""
   ]
  },
  {
   "cell_type": "code",
   "execution_count": null,
   "id": "998d35e0",
   "metadata": {},
   "outputs": [],
   "source": [
    "import os\n",
    "import requests\n",
    "\n",
    "url = f\"https://huggingface.co/rasbt/gpt2-from-scratch-pytorch/resolve/main/{file_name}\"\n",
    "\n",
    "if not os.path.exists(file_name):\n",
    "    response = requests.get(url, timeout=60)\n",
    "    response.raise_for_status()\n",
    "    with open(file_name, \"wb\") as f:\n",
    "        f.write(response.content)\n",
    "    print(f\"Downloaded to {file_name}\")"
   ]
  },
  {
   "cell_type": "markdown",
   "id": "71f1c5ee",
   "metadata": {},
   "source": [
    "### 加载权重"
   ]
  },
  {
   "cell_type": "code",
   "execution_count": null,
   "id": "8224c3cf",
   "metadata": {},
   "outputs": [],
   "source": [
    "import torch\n",
    "from llms_from_scratch.ch04 import GPTModel\n",
    "# For llms_from_scratch installation instructions, see:\n",
    "# https://github.com/rasbt/LLMs-from-scratch/tree/main/pkg\n",
    "\n",
    "\n",
    "gpt = GPTModel(BASE_CONFIG)\n",
    "gpt.load_state_dict(torch.load(file_name, weights_only=True))\n",
    "gpt.eval()\n",
    "\n",
    "device = torch.device(\"cuda\" if torch.cuda.is_available() else \"cpu\")\n",
    "gpt.to(device);"
   ]
  },
  {
   "cell_type": "markdown",
   "id": "6b118e98",
   "metadata": {},
   "source": [
    "### 生成文本"
   ]
  },
  {
   "cell_type": "code",
   "execution_count": null,
   "id": "73e577fe",
   "metadata": {},
   "outputs": [],
   "source": [
    "import tiktoken\n",
    "from llms_from_scratch.ch05 import generate, text_to_token_ids, token_ids_to_text\n",
    "\n",
    "\n",
    "torch.manual_seed(123)\n",
    "\n",
    "tokenizer = tiktoken.get_encoding(\"gpt2\")\n",
    "\n",
    "token_ids = generate(\n",
    "    model=gpt.to(device),\n",
    "    idx=text_to_token_ids(\"Every effort moves\", tokenizer).to(device),\n",
    "    max_new_tokens=30,\n",
    "    context_size=BASE_CONFIG[\"context_length\"],\n",
    "    top_k=1,\n",
    "    temperature=1.0\n",
    ")\n",
    "\n",
    "print(\"Output text:\\n\", token_ids_to_text(token_ids, tokenizer))"
   ]
  },
  {
   "cell_type": "markdown",
   "id": "679411de",
   "metadata": {},
   "source": [
    "## 替代的safetensors文件"
   ]
  },
  {
   "cell_type": "markdown",
   "id": "cae89c5c",
   "metadata": {},
   "source": [
    "- 此外，[https://huggingface.co/rasbt/gpt2-from-scratch-pytorch](https://huggingface.co/rasbt/gpt2-from-scratch-pytorch) 仓库还包含`.safetensors`版本的状态字典\n",
    "- `.safetensors`文件的吸引力在于其安全设计，它们仅存储张量数据，并在加载时避免执行潜在的恶意代码\n",
    "- 在PyTorch的新版本（例如 2.0 及更高版本）中，可以使用`weights_only=True`参数与`torch.load`（例如 `torch.load(\"model_state_dict.pth\", weights_only=True)` ）一起使用，通过跳过代码执行并仅加载权重来提高安全性（在PyTorch 2.6及更高版本中，此功能现已默认启用）；因此在这种情况下，从状态字典文件中加载权重不应再成为问题\n",
    "- 然而，下面的代码块简要展示了如何从这些`.safetensor`文件中加载模型"
   ]
  },
  {
   "cell_type": "code",
   "execution_count": null,
   "id": "a0eaaee7",
   "metadata": {},
   "outputs": [],
   "source": [
    "file_name = \"gpt2-small-124M.safetensors\"\n",
    "# file_name = \"gpt2-medium-355M.safetensors\"\n",
    "# file_name = \"gpt2-large-774M.safetensors\"\n",
    "# file_name = \"gpt2-xl-1558M.safetensors\""
   ]
  },
  {
   "cell_type": "code",
   "execution_count": null,
   "id": "57f63ea4",
   "metadata": {},
   "outputs": [],
   "source": [
    "import os\n",
    "import urllib.request\n",
    "\n",
    "url = f\"https://huggingface.co/rasbt/gpt2-from-scratch-pytorch/resolve/main/{file_name}\"\n",
    "\n",
    "if not os.path.exists(file_name):\n",
    "    urllib.request.urlretrieve(url, file_name)\n",
    "    print(f\"Downloaded to {file_name}\")"
   ]
  },
  {
   "cell_type": "code",
   "execution_count": null,
   "id": "67dbc628",
   "metadata": {},
   "outputs": [],
   "source": [
    "# Load file\n",
    "\n",
    "from safetensors.torch import load_file\n",
    "\n",
    "gpt = GPTModel(BASE_CONFIG)\n",
    "gpt.load_state_dict(load_file(file_name))\n",
    "gpt.eval();"
   ]
  },
  {
   "cell_type": "code",
   "execution_count": null,
   "id": "f30d812f",
   "metadata": {},
   "outputs": [],
   "source": [
    "token_ids = generate(\n",
    "    model=gpt.to(device),\n",
    "    idx=text_to_token_ids(\"Every effort moves\", tokenizer).to(device),\n",
    "    max_new_tokens=30,\n",
    "    context_size=BASE_CONFIG[\"context_length\"],\n",
    "    top_k=1,\n",
    "    temperature=1.0\n",
    ")\n",
    "\n",
    "print(\"Output text:\\n\", token_ids_to_text(token_ids, tokenizer))"
   ]
  }
 ],
 "metadata": {
  "kernelspec": {
   "display_name": "llms",
   "language": "python",
   "name": "python3"
  },
  "language_info": {
   "codemirror_mode": {
    "name": "ipython",
    "version": 3
   },
   "file_extension": ".py",
   "mimetype": "text/x-python",
   "name": "python",
   "nbconvert_exporter": "python",
   "pygments_lexer": "ipython3",
   "version": "3.10.13"
  }
 },
 "nbformat": 4,
 "nbformat_minor": 5
}
